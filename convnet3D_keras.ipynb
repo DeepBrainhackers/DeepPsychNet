{
 "cells": [
  {
   "cell_type": "code",
   "execution_count": 44,
   "metadata": {
    "collapsed": false
   },
   "outputs": [],
   "source": [
    "from keras.layers import Conv3D, Dropout, InputLayer, Dense, SpatialDropout3D, MaxPooling3D, BatchNormalization, Flatten\n",
    "from keras.models import Sequential\n",
    "from keras.utils import plot_model\n",
    "import tensorflow as tf"
   ]
  },
  {
   "cell_type": "code",
   "execution_count": 41,
   "metadata": {
    "collapsed": false
   },
   "outputs": [],
   "source": [
    "model = Sequential()\n",
    "model.add(InputLayer(input_shape=(91, 109, 91, 1), \n",
    "                     batch_size=None, \n",
    "                     dtype=tf.float32, \n",
    "                     name='input_layer'))\n",
    "model.add(Conv3D(filters=64, kernel_size=(7, 7, 7), strides=(3, 3, 3), activation='relu',\n",
    "                name='conv1'))\n",
    "model.add(BatchNormalization(name='bn1'))\n",
    "model.add(MaxPooling3D(pool_size=(2, 2, 2), strides=(2, 2, 2), name='mp1'))\n",
    "\n",
    "model.add(Conv3D(filters=32, kernel_size=(5, 5, 5), activation='relu', name='conv2'))\n",
    "model.add(BatchNormalization(name='bn2'))\n",
    "model.add(SpatialDropout3D(rate=0.5, data_format='channels_last', name='do_conv'))\n",
    "model.add(MaxPooling3D(pool_size=(2, 2, 2), strides=(2, 2, 2), name='mp2'))\n",
    "\n",
    "model.add(Flatten(name='flatten'))\n",
    "model.add(Dense(units=1000, activation='relu', name='fc1'))\n",
    "model.add(Dropout(rate=0.5, name='do_fc'))\n",
    "model.add(Dense(units=100, activation='relu', name='fc2'))\n",
    "model.add(Dense(units=2, activation='softmax', name='softmax'))"
   ]
  },
  {
   "cell_type": "code",
   "execution_count": 42,
   "metadata": {
    "collapsed": false
   },
   "outputs": [
    {
     "name": "stdout",
     "output_type": "stream",
     "text": [
      "_________________________________________________________________\n",
      "Layer (type)                 Output Shape              Param #   \n",
      "=================================================================\n",
      "input_layer (InputLayer)     (None, 91, 109, 91, 1)    0         \n",
      "_________________________________________________________________\n",
      "conv1 (Conv3D)               (None, 29, 35, 29, 64)    22016     \n",
      "_________________________________________________________________\n",
      "bn1 (BatchNormalization)     (None, 29, 35, 29, 64)    256       \n",
      "_________________________________________________________________\n",
      "mp1 (MaxPooling3D)           (None, 14, 17, 14, 64)    0         \n",
      "_________________________________________________________________\n",
      "conv2 (Conv3D)               (None, 10, 13, 10, 32)    256032    \n",
      "_________________________________________________________________\n",
      "bn2 (BatchNormalization)     (None, 10, 13, 10, 32)    128       \n",
      "_________________________________________________________________\n",
      "do_conv (SpatialDropout3D)   (None, 10, 13, 10, 32)    0         \n",
      "_________________________________________________________________\n",
      "mp2 (MaxPooling3D)           (None, 5, 6, 5, 32)       0         \n",
      "_________________________________________________________________\n",
      "flatten (Flatten)            (None, 4800)              0         \n",
      "_________________________________________________________________\n",
      "fc1 (Dense)                  (None, 1000)              4801000   \n",
      "_________________________________________________________________\n",
      "do_fc (Dropout)              (None, 1000)              0         \n",
      "_________________________________________________________________\n",
      "fc2 (Dense)                  (None, 100)               100100    \n",
      "_________________________________________________________________\n",
      "softmax (Dense)              (None, 2)                 202       \n",
      "=================================================================\n",
      "Total params: 5,179,734.0\n",
      "Trainable params: 5,179,542.0\n",
      "Non-trainable params: 192.0\n",
      "_________________________________________________________________\n"
     ]
    }
   ],
   "source": [
    "model.summary()"
   ]
  },
  {
   "cell_type": "code",
   "execution_count": 43,
   "metadata": {
    "collapsed": true
   },
   "outputs": [],
   "source": [
    "model.compile(optimizer='adam', loss='categorical_crossentropy', metrics=['accuracy'])"
   ]
  }
 ],
 "metadata": {
  "kernelspec": {
   "display_name": "Python [default]",
   "language": "python",
   "name": "python2"
  },
  "language_info": {
   "codemirror_mode": {
    "name": "ipython",
    "version": 2
   },
   "file_extension": ".py",
   "mimetype": "text/x-python",
   "name": "python",
   "nbconvert_exporter": "python",
   "pygments_lexer": "ipython2",
   "version": "2.7.13"
  }
 },
 "nbformat": 4,
 "nbformat_minor": 2
}
